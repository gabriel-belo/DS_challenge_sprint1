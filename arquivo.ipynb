{
 "cells": [
  {
   "cell_type": "code",
   "execution_count": 1,
   "id": "f853d96b",
   "metadata": {},
   "outputs": [],
   "source": [
    "import pandas as pd \n",
    "import matplotlib.pyplot as plt \n",
    "import seaborn as sns"
   ]
  },
  {
   "cell_type": "code",
   "execution_count": 2,
   "id": "b68ffff6",
   "metadata": {},
   "outputs": [],
   "source": [
    "dados= pd.read_excel('DasaMatHosp.xlsx')"
   ]
  },
  {
   "cell_type": "markdown",
   "id": "97d15010",
   "metadata": {},
   "source": [
    "## Temas e insights \n",
    "1. Verificar os 5 produtos mais usados e a variação do estoque. \n",
    "2. Verificar os 5 produtos menos usados e a variação no estoque.\n",
    "3. Verificar os 3 produtos com maior custo unitario no decorrer do ano.\n",
    "4. Verificar os 3 produtos com menor custo unitário no decorrer do ano.\n",
    "5. Verificar quais os 5 produtos mais usados em cada época do ano.\n",
    "6. Verificar quais os 5 produtos mais usados a cada 3 horas.\n"
   ]
  },
  {
   "cell_type": "markdown",
   "id": "06b6a291",
   "metadata": {},
   "source": [
    "## Análise, limpeza e formatação dos dados"
   ]
  },
  {
   "cell_type": "code",
   "execution_count": null,
   "id": "e7bc47dc",
   "metadata": {},
   "outputs": [
    {
     "data": {
      "text/html": [
       "<div>\n",
       "<style scoped>\n",
       "    .dataframe tbody tr th:only-of-type {\n",
       "        vertical-align: middle;\n",
       "    }\n",
       "\n",
       "    .dataframe tbody tr th {\n",
       "        vertical-align: top;\n",
       "    }\n",
       "\n",
       "    .dataframe thead th {\n",
       "        text-align: right;\n",
       "    }\n",
       "</style>\n",
       "<table border=\"1\" class=\"dataframe\">\n",
       "  <thead>\n",
       "    <tr style=\"text-align: right;\">\n",
       "      <th></th>\n",
       "      <th>Material</th>\n",
       "      <th>DataHora</th>\n",
       "      <th>Estoque</th>\n",
       "      <th>Custo_Unitario</th>\n",
       "      <th>Custo_Total</th>\n",
       "    </tr>\n",
       "  </thead>\n",
       "  <tbody>\n",
       "    <tr>\n",
       "      <th>0</th>\n",
       "      <td>Máscaras N95</td>\n",
       "      <td>2024-01-01</td>\n",
       "      <td>300.0</td>\n",
       "      <td>3.96</td>\n",
       "      <td>1188.00</td>\n",
       "    </tr>\n",
       "    <tr>\n",
       "      <th>1</th>\n",
       "      <td>Gaze Estéril</td>\n",
       "      <td>2024-01-01</td>\n",
       "      <td>278.0</td>\n",
       "      <td>0.40</td>\n",
       "      <td>111.20</td>\n",
       "    </tr>\n",
       "    <tr>\n",
       "      <th>2</th>\n",
       "      <td>Algodão</td>\n",
       "      <td>2024-01-01</td>\n",
       "      <td>351.0</td>\n",
       "      <td>0.25</td>\n",
       "      <td>87.75</td>\n",
       "    </tr>\n",
       "    <tr>\n",
       "      <th>3</th>\n",
       "      <td>Adrenalina</td>\n",
       "      <td>2024-01-01</td>\n",
       "      <td>403.0</td>\n",
       "      <td>4.92</td>\n",
       "      <td>1982.76</td>\n",
       "    </tr>\n",
       "    <tr>\n",
       "      <th>4</th>\n",
       "      <td>Seringas</td>\n",
       "      <td>2024-01-01</td>\n",
       "      <td>1084.0</td>\n",
       "      <td>0.52</td>\n",
       "      <td>563.68</td>\n",
       "    </tr>\n",
       "  </tbody>\n",
       "</table>\n",
       "</div>"
      ],
      "text/plain": [
       "       Material   DataHora  Estoque  Custo_Unitario  Custo_Total\n",
       "0  Máscaras N95 2024-01-01    300.0            3.96      1188.00\n",
       "1  Gaze Estéril 2024-01-01    278.0            0.40       111.20\n",
       "2       Algodão 2024-01-01    351.0            0.25        87.75\n",
       "3    Adrenalina 2024-01-01    403.0            4.92      1982.76\n",
       "4      Seringas 2024-01-01   1084.0            0.52       563.68"
      ]
     },
     "execution_count": 18,
     "metadata": {},
     "output_type": "execute_result"
    }
   ],
   "source": [
    "dados.head()\n",
    "\n",
    "# Para verificar os temas acima será necessário criar uma nova coluna hora e uma outra coluna data"
   ]
  },
  {
   "cell_type": "code",
   "execution_count": null,
   "id": "d42129ba",
   "metadata": {},
   "outputs": [
    {
     "name": "stdout",
     "output_type": "stream",
     "text": [
      "           Material            DataHora  Estoque  Custo_Unitario  Custo_Total\n",
      "29353  Máscaras N95 2024-01-01 00:00:00    300.0            3.96      1188.00\n",
      "18706  Gaze Estéril 2024-01-01 00:00:00    278.0            0.40       111.20\n",
      "11054       Algodão 2024-01-01 00:00:00    351.0            0.25        87.75\n",
      "13882    Adrenalina 2024-01-01 00:00:00    403.0            4.92      1982.76\n",
      "4027       Seringas 2024-01-01 00:00:00   1084.0            0.52       563.68\n",
      "...             ...                 ...      ...             ...          ...\n",
      "19925  Máscaras N95 2024-12-31 21:00:00    330.0            4.49      1481.70\n",
      "27153    Adrenalina 2024-12-31 21:00:00    271.0            4.96      1344.16\n",
      "8554    Paracetamol 2024-12-31 21:00:00    490.0            1.50       735.00\n",
      "12762       Algodão 2024-12-31 21:00:00    381.0            0.25        95.25\n",
      "6556     Álcool 70% 2024-12-31 21:00:00    191.0            2.00       382.00\n",
      "\n",
      "[29380 rows x 5 columns]\n"
     ]
    }
   ],
   "source": [
    "#Ordenando a tabela pelas datas\n",
    "dados = dados.sort_values(by='DataHora')\n",
    "dados= pd.DataFrame(dados)\n",
    "print(dados)"
   ]
  },
  {
   "cell_type": "code",
   "execution_count": 7,
   "id": "73f17016",
   "metadata": {},
   "outputs": [
    {
     "name": "stdout",
     "output_type": "stream",
     "text": [
      "           Material            DataHora  Estoque  Custo_Unitario  Custo_Total\n",
      "0      Máscaras N95 2024-01-01 00:00:00    300.0            3.96      1188.00\n",
      "1      Gaze Estéril 2024-01-01 00:00:00    278.0            0.40       111.20\n",
      "2           Algodão 2024-01-01 00:00:00    351.0            0.25        87.75\n",
      "3        Adrenalina 2024-01-01 00:00:00    403.0            4.92      1982.76\n",
      "4          Seringas 2024-01-01 00:00:00   1084.0            0.52       563.68\n",
      "...             ...                 ...      ...             ...          ...\n",
      "29375  Máscaras N95 2024-12-31 21:00:00    330.0            4.49      1481.70\n",
      "29376    Adrenalina 2024-12-31 21:00:00    271.0            4.96      1344.16\n",
      "29377   Paracetamol 2024-12-31 21:00:00    490.0            1.50       735.00\n",
      "29378       Algodão 2024-12-31 21:00:00    381.0            0.25        95.25\n",
      "29379    Álcool 70% 2024-12-31 21:00:00    191.0            2.00       382.00\n",
      "\n",
      "[29380 rows x 5 columns]\n"
     ]
    }
   ],
   "source": [
    "#Excluindo a coluna e indices e gerando uma nova\n",
    "dados= dados.reset_index(drop= True)\n",
    "print(dados)"
   ]
  },
  {
   "cell_type": "code",
   "execution_count": 14,
   "id": "f89a08b8",
   "metadata": {},
   "outputs": [
    {
     "name": "stdout",
     "output_type": "stream",
     "text": [
      "            Material            DataHora  Estoque  Custo_Unitario  Custo_Total\n",
      "0           Seringas 2024-01-04 18:00:00      0.0            0.47          0.0\n",
      "1   Luvas Cirúrgicas 2024-01-04 18:00:00      0.0            0.85          0.0\n",
      "2           Dipirona 2024-01-13 00:00:00      0.0            1.30          0.0\n",
      "3         Álcool 70% 2024-01-29 09:00:00      0.0            2.01          0.0\n",
      "4       Máscaras N95 2024-02-10 03:00:00      0.0            3.91          0.0\n",
      "5       Máscaras N95 2024-03-06 09:00:00      0.0            5.09          0.0\n",
      "6           Dipirona 2024-03-09 18:00:00      0.0            1.31          0.0\n",
      "7       Gaze Estéril 2024-03-11 09:00:00      0.0            0.39          0.0\n",
      "8           Dipirona 2024-03-22 18:00:00      0.0            1.32          0.0\n",
      "9         Adrenalina 2024-03-24 18:00:00      0.0            4.94          0.0\n",
      "10  Luvas Cirúrgicas 2024-04-02 18:00:00      0.0            0.76          0.0\n",
      "11        Adrenalina 2024-04-04 03:00:00      0.0            5.08          0.0\n",
      "12      Gaze Estéril 2024-04-04 03:00:00      0.0            0.40          0.0\n",
      "13          Dipirona 2024-04-04 03:00:00      0.0            1.32          0.0\n",
      "14        Adrenalina 2024-04-09 12:00:00      0.0            5.04          0.0\n",
      "15        Álcool 70% 2024-05-01 00:00:00      0.0            2.02          0.0\n",
      "16          Seringas 2024-05-09 03:00:00      0.0            0.56          0.0\n",
      "17           Algodão 2024-05-24 06:00:00      0.0            0.25          0.0\n",
      "18        Adrenalina 2024-05-29 18:00:00      0.0            5.09          0.0\n",
      "19          Dipirona 2024-05-31 18:00:00      0.0            1.32          0.0\n",
      "20      Máscaras N95 2024-06-05 18:00:00      0.0            4.29          0.0\n",
      "21       Paracetamol 2024-06-14 09:00:00      0.0            1.48          0.0\n",
      "22          Seringas 2024-06-23 15:00:00      0.0            0.47          0.0\n",
      "23  Soro Fisiológico 2024-06-28 03:00:00      0.0            3.02          0.0\n",
      "24        Álcool 70% 2024-07-07 00:00:00      0.0            2.00          0.0\n",
      "25      Gaze Estéril 2024-07-24 21:00:00      0.0            0.40          0.0\n",
      "26        Álcool 70% 2024-07-26 12:00:00      0.0            2.04          0.0\n",
      "27          Seringas 2024-07-30 03:00:00      0.0            0.50          0.0\n",
      "28          Dipirona 2024-08-08 18:00:00      0.0            1.29          0.0\n",
      "29       Paracetamol 2024-08-11 03:00:00      0.0            1.51          0.0\n",
      "30          Dipirona 2024-08-24 00:00:00      0.0            1.29          0.0\n",
      "31        Adrenalina 2024-08-26 21:00:00      0.0            5.08          0.0\n",
      "32        Álcool 70% 2024-09-05 06:00:00      0.0            2.00          0.0\n",
      "33      Gaze Estéril 2024-09-14 12:00:00      0.0            0.40          0.0\n",
      "34  Luvas Cirúrgicas 2024-09-19 18:00:00      0.0            0.80          0.0\n",
      "35      Gaze Estéril 2024-09-20 09:00:00      0.0            0.40          0.0\n",
      "36  Soro Fisiológico 2024-09-27 12:00:00      0.0            3.02          0.0\n",
      "37  Soro Fisiológico 2024-10-05 21:00:00      0.0            2.97          0.0\n",
      "38  Soro Fisiológico 2024-11-16 21:00:00      0.0            3.05          0.0\n",
      "39      Gaze Estéril 2024-11-18 00:00:00      0.0            0.41          0.0\n",
      "40      Gaze Estéril 2024-11-21 12:00:00      0.0            0.41          0.0\n",
      "41        Adrenalina 2024-11-25 06:00:00      0.0            5.09          0.0\n",
      "42        Álcool 70% 2024-12-10 18:00:00      0.0            2.00          0.0\n",
      "43      Máscaras N95 2024-12-14 18:00:00      0.0            5.17          0.0\n",
      "44       Paracetamol 2024-12-26 12:00:00      0.0            1.51          0.0\n"
     ]
    }
   ],
   "source": [
    "#Encontrando os valores nulos\n",
    "# dados.isnull().sum()\n",
    "\n",
    "#Gerando uma tabela com os dados que tem valor 0 em estoque\n",
    "estoque0= dados.query('Estoque == 0').reset_index(drop=True)\n",
    "print(estoque0)\n",
    "#Gerando uma tabela com os dados que tem valor null em estoque"
   ]
  },
  {
   "cell_type": "code",
   "execution_count": 24,
   "id": "4498013f",
   "metadata": {},
   "outputs": [
    {
     "name": "stdout",
     "output_type": "stream",
     "text": [
      "           Material            DataHora  Estoque  Custo_Unitario  Custo_Total  \\\n",
      "0      Máscaras N95 2024-01-01 00:00:00    300.0            3.96      1188.00   \n",
      "1      Gaze Estéril 2024-01-01 00:00:00    278.0            0.40       111.20   \n",
      "2           Algodão 2024-01-01 00:00:00    351.0            0.25        87.75   \n",
      "3        Adrenalina 2024-01-01 00:00:00    403.0            4.92      1982.76   \n",
      "4          Seringas 2024-01-01 00:00:00   1084.0            0.52       563.68   \n",
      "...             ...                 ...      ...             ...          ...   \n",
      "29375  Máscaras N95 2024-12-31 21:00:00    330.0            4.49      1481.70   \n",
      "29376    Adrenalina 2024-12-31 21:00:00    271.0            4.96      1344.16   \n",
      "29377   Paracetamol 2024-12-31 21:00:00    490.0            1.50       735.00   \n",
      "29378       Algodão 2024-12-31 21:00:00    381.0            0.25        95.25   \n",
      "29379    Álcool 70% 2024-12-31 21:00:00    191.0            2.00       382.00   \n",
      "\n",
      "             Data   Horario  \n",
      "0      2024-01-01  00:00:00  \n",
      "1      2024-01-01  00:00:00  \n",
      "2      2024-01-01  00:00:00  \n",
      "3      2024-01-01  00:00:00  \n",
      "4      2024-01-01  00:00:00  \n",
      "...           ...       ...  \n",
      "29375  2024-12-31  21:00:00  \n",
      "29376  2024-12-31  21:00:00  \n",
      "29377  2024-12-31  21:00:00  \n",
      "29378  2024-12-31  21:00:00  \n",
      "29379  2024-12-31  21:00:00  \n",
      "\n",
      "[29380 rows x 7 columns]\n"
     ]
    }
   ],
   "source": [
    "# print(dados['DataHora'])\n",
    "dados['DataHora'] = pd.to_datetime(dados['DataHora'])\n",
    "dados['Data'] = dados['DataHora'].dt.date\n",
    "dados['Horario'] = dados['DataHora'].dt.time\n",
    "\n",
    "print(dados)"
   ]
  },
  {
   "cell_type": "markdown",
   "id": "86289424",
   "metadata": {},
   "source": [
    "<h1>Descrição das variáveis</h1>\n",
    "<ul>\n",
    "    <li>Material:  É uma variável do tipo qualitativa nominal, pois ela somente nomeial os materiais hospitalares e não as ordenam.</li>\n",
    "    <li>DataHora: É uma variável do tipo quantitativa </li>\n",
    "    <li>Estoque: É uma variável do tipo quantitativa discreta, pois são valores inteiros</li>\n",
    "    <li>Custo_Unitario: É uma variável do tipo quantitativa contínua, pois são valores quebrados</li>\n",
    "    <li>Custo_Total: É uma variável do tipo quantitativa contínua, pois são valores quebrados</li>\n",
    "    \n",
    "</ul>"
   ]
  }
 ],
 "metadata": {
  "kernelspec": {
   "display_name": "base",
   "language": "python",
   "name": "python3"
  },
  "language_info": {
   "codemirror_mode": {
    "name": "ipython",
    "version": 3
   },
   "file_extension": ".py",
   "mimetype": "text/x-python",
   "name": "python",
   "nbconvert_exporter": "python",
   "pygments_lexer": "ipython3",
   "version": "3.12.7"
  }
 },
 "nbformat": 4,
 "nbformat_minor": 5
}
